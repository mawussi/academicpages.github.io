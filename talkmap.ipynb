{
 "cells": [
  {
   "cell_type": "markdown",
   "metadata": {},
   "source": [
    "# Leaflet cluster map of talk locations\n",
    "\n",
    "Run this from the _talks/ directory, which contains .md files of all your talks. This scrapes the location YAML field from each .md file, geolocates it with geopy/Nominatim, and uses the getorg library to output data, HTML, and Javascript for a standalone cluster map."
   ]
  },
  {
   "cell_type": "code",
   "execution_count": 1,
   "metadata": {},
   "outputs": [
    {
     "name": "stdout",
     "output_type": "stream",
     "text": [
      "Requirement already up-to-date: getorg in /home/mawussi/anaconda2/lib/python2.7/site-packages\n",
      "Requirement already up-to-date: retrying in /home/mawussi/anaconda2/lib/python2.7/site-packages (from getorg)\n",
      "Requirement already up-to-date: geopy in /home/mawussi/anaconda2/lib/python2.7/site-packages (from getorg)\n",
      "Requirement already up-to-date: pygithub in /home/mawussi/anaconda2/lib/python2.7/site-packages (from getorg)\n",
      "Requirement already up-to-date: six>=1.7.0 in /home/mawussi/anaconda2/lib/python2.7/site-packages (from retrying->getorg)\n",
      "Requirement already up-to-date: pyjwt in /home/mawussi/anaconda2/lib/python2.7/site-packages (from pygithub->getorg)\n",
      "IPywidgets and ipyleaflet support enabled.\n"
     ]
    }
   ],
   "source": [
    "!pip install getorg --upgrade\n",
    "import glob\n",
    "import getorg\n",
    "from geopy import Nominatim"
   ]
  },
  {
   "cell_type": "code",
   "execution_count": 2,
   "metadata": {},
   "outputs": [],
   "source": [
    "g = glob.glob(\"_talks/*.md\")"
   ]
  },
  {
   "cell_type": "code",
   "execution_count": 3,
   "metadata": {},
   "outputs": [],
   "source": [
    "geocoder = Nominatim()\n",
    "location_dict = {}\n",
    "location = \"\"\n",
    "permalink = \"\"\n",
    "title = \"\""
   ]
  },
  {
   "cell_type": "code",
   "execution_count": 4,
   "metadata": {},
   "outputs": [
    {
     "name": "stdout",
     "output_type": "stream",
     "text": [
      "('Denver, Colorado, USA', '\\n', Location((39.7391536, -104.9847034, 0.0)))\n",
      "('Valencia, Spain', '\\n', Location((39.4699014, -0.3759513, 0.0)))\n",
      "('Lugano, Switzerland', '\\n', Location((46.0050102, 8.9520281, 0.0)))\n",
      "('Atlanta Georgia, USA', '\\n', Location((33.7490987, -84.3901849, 0.0)))\n",
      "('Bengaluru, India', '\\n', Location((12.9791198, 77.5912997, 0.0)))\n",
      "('Zurich, Switzerland', '\\n', Location((47.3723957, 8.5423216, 0.0)))\n",
      "('Knoxville, Tennessee, USA', '\\n', Location((35.9603948, -83.9210261, 0.0)))\n",
      "('Toulouse, France', '\\n', Location((43.6044622, 1.4442469, 0.0)))\n",
      "('Santiago de Compostela, Spain', '\\n', Location((42.8804219, -8.5458608, 0.0)))\n"
     ]
    }
   ],
   "source": [
    "\n",
    "for file in g:\n",
    "    with open(file, 'r') as f:\n",
    "        lines = f.read()\n",
    "        if lines.find('location: \"') > 1:\n",
    "            loc_start = lines.find('location: \"') + 11\n",
    "            lines_trim = lines[loc_start:]\n",
    "            loc_end = lines_trim.find('\"')\n",
    "            location = lines_trim[:loc_end]\n",
    "                            \n",
    "           \n",
    "        location_dict[location] = geocoder.geocode(location)\n",
    "        print(location, \"\\n\", location_dict[location])\n"
   ]
  },
  {
   "cell_type": "code",
   "execution_count": 5,
   "metadata": {},
   "outputs": [
    {
     "data": {
      "text/plain": [
       "'Written map to ../talkmap/'"
      ]
     },
     "execution_count": 5,
     "metadata": {},
     "output_type": "execute_result"
    }
   ],
   "source": [
    "m = getorg.orgmap.create_map_obj()\n",
    "getorg.orgmap.output_html_cluster_map(location_dict, folder_name=\"../talkmap\", hashed_usernames=False)"
   ]
  },
  {
   "cell_type": "code",
   "execution_count": null,
   "metadata": {},
   "outputs": [],
   "source": []
  }
 ],
 "metadata": {
  "anaconda-cloud": {},
  "kernelspec": {
   "display_name": "Python 2",
   "language": "python",
   "name": "python2"
  },
  "language_info": {
   "codemirror_mode": {
    "name": "ipython",
    "version": 2
   },
   "file_extension": ".py",
   "mimetype": "text/x-python",
   "name": "python",
   "nbconvert_exporter": "python",
   "pygments_lexer": "ipython2",
   "version": "2.7.11"
  }
 },
 "nbformat": 4,
 "nbformat_minor": 1
}
